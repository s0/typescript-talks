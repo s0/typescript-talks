{
 "cells": [
  {
   "cell_type": "markdown",
   "metadata": {},
   "source": [
    "# Writing npm (JavaScript) libraries using TypeScript\n",
    "\n",
    "The first thing to do when starting out with creating any new node\n",
    "package is to initialise a git repo for the package, and create\n",
    "the `package.json` file."
   ]
  },
  {
   "cell_type": "code",
   "execution_count": 1,
   "metadata": {},
   "outputs": [],
   "source": [
    "mkdir -p my-amazing-package"
   ]
  },
  {
   "cell_type": "code",
   "execution_count": 2,
   "metadata": {},
   "outputs": [],
   "source": [
    "cd my-amazing-package"
   ]
  },
  {
   "cell_type": "code",
   "execution_count": 3,
   "metadata": {},
   "outputs": [
    {
     "name": "stdout",
     "output_type": "stream",
     "text": [
      "Initialized empty Git repository in /home/jupyter/notebooks/my-amazing-package/.git/\n"
     ]
    }
   ],
   "source": [
    "git init"
   ]
  },
  {
   "cell_type": "markdown",
   "metadata": {},
   "source": [
    "Next we need to setup the `package.json` file."
   ]
  },
  {
   "cell_type": "code",
   "execution_count": 4,
   "metadata": {},
   "outputs": [
    {
     "name": "stdout",
     "output_type": "stream",
     "text": [
      "{\n",
      "  \"name\": \"my-amazing-package\",\n",
      "  \"version\": \"0.0.1\"\n",
      "}\n"
     ]
    }
   ],
   "source": [
    "cat ../resources/package.json; cp ../resources/package.json package.json"
   ]
  },
  {
   "cell_type": "markdown",
   "metadata": {},
   "source": [
    "After we have this, we can start installing dependencies for this package.\n",
    "Let's install the typescript compiler.\n",
    "\n",
    "*Note: We're going to install this local to the current package, rather than\n",
    "glocally, to keep things clean*"
   ]
  },
  {
   "cell_type": "code",
   "execution_count": 7,
   "metadata": {},
   "outputs": [
    {
     "name": "stdout",
     "output_type": "stream",
     "text": [
      "\u001b[?25l\u001b[0G| |---------------------------------------------------------------------------|\n",
      "\u001b[?25h\u001b[1A\u001b[?25l\u001b[0G| |---------------------------------------------------------------------------|\n",
      "\u001b[?25h\u001b[1A\u001b[?25l\u001b[0G- |---------------------------------------------------------------------------|\n",
      "\u001b[?25h\u001b[1A\u001b[?25l\u001b[0G\\ |---------------------------------------------------------------------------|\n",
      "\u001b[?25h\u001b[1A\u001b[?25l\u001b[0G| |---------------------------------------------------------------------------|\n",
      "\u001b[?25h\u001b[1A\u001b[?25l\u001b[0GloadRequestedDeps -> get  | |##########---------------------------------------|\n",
      "\u001b[?25h\u001b[1A\u001b[?25l\u001b[0GloadRequestedDeps -> addN | |##########---------------------------------------|\n",
      "\u001b[?25h\u001b[1A\u001b[?25l\u001b[0GloadRequestedDeps -> afte \\ |##########---------------------------------------|\n",
      "\u001b[?25h\u001b[1A\u001b[?25l\u001b[0GloadRequestedDeps         \\ |###################------------------------------|\n",
      "\u001b[?25h\u001b[?25h\u001b[1A\u001b[0G\u001b[K\u001b[?25l\u001b[0GrunTopLevelLifecycles     - |###############################################--|\n",
      "\u001b[?25h\u001b[?25h\u001b[1A\u001b[0G\u001b[K\u001b[37m\u001b[40mnpm\u001b[0m \u001b[0m\u001b[30m\u001b[43mWARN\u001b[0m\u001b[35m\u001b[0m my-amazing-package@0.0.1 No description\n",
      "\u001b[0m\u001b[?25l\u001b[0GrunTopLevelLifecycles     \\ |###############################################--|\n",
      "\u001b[?25h\u001b[?25h\u001b[1A\u001b[0G\u001b[K\u001b[37m\u001b[40mnpm\u001b[0m \u001b[0m\u001b[30m\u001b[43mWARN\u001b[0m\u001b[35m\u001b[0m my-amazing-package@0.0.1 No repository field.\n",
      "\u001b[0m\u001b[?25l\u001b[0GrunTopLevelLifecycles     | |###############################################--|\n",
      "\u001b[?25h\u001b[?25h\u001b[1A\u001b[0G\u001b[K\u001b[37m\u001b[40mnpm\u001b[0m \u001b[0m\u001b[30m\u001b[43mWARN\u001b[0m\u001b[35m\u001b[0m my-amazing-package@0.0.1 No license field.\n",
      "\u001b[0m\u001b[?25l\u001b[0GrunTopLevelLifecycles     / |###############################################--|\n",
      "\u001b[?25h\u001b[?25h\u001b[1A\u001b[0G\u001b[K\u001b[?25h\u001b[0G\u001b[K"
     ]
    }
   ],
   "source": [
    "npm install --save typescript"
   ]
  },
  {
   "cell_type": "markdown",
   "metadata": {},
   "source": [
    "And we can now see how our `package.json` file has changed to include the dependency:"
   ]
  },
  {
   "cell_type": "code",
   "execution_count": 6,
   "metadata": {},
   "outputs": [
    {
     "name": "stdout",
     "output_type": "stream",
     "text": [
      "{\n",
      "  \"name\": \"my-amazing-package\",\n",
      "  \"version\": \"0.0.1\",\n",
      "  \"dependencies\": {\n",
      "    \"typescript\": \"^3.5.3\"\n",
      "  }\n",
      "}\n"
     ]
    }
   ],
   "source": [
    "cat package.json"
   ]
  },
  {
   "cell_type": "markdown",
   "metadata": {},
   "source": [
    "We need a way now to run the command line tools provided by the typescript package,\n",
    "so that we can compile and setup the "
   ]
  },
  {
   "cell_type": "code",
   "execution_count": null,
   "metadata": {},
   "outputs": [],
   "source": []
  },
  {
   "cell_type": "code",
   "execution_count": null,
   "metadata": {},
   "outputs": [],
   "source": []
  },
  {
   "cell_type": "code",
   "execution_count": null,
   "metadata": {},
   "outputs": [],
   "source": []
  },
  {
   "cell_type": "code",
   "execution_count": null,
   "metadata": {},
   "outputs": [],
   "source": []
  },
  {
   "cell_type": "code",
   "execution_count": null,
   "metadata": {},
   "outputs": [],
   "source": []
  },
  {
   "cell_type": "code",
   "execution_count": null,
   "metadata": {},
   "outputs": [],
   "source": []
  }
 ],
 "metadata": {
  "kernelspec": {
   "display_name": "Bash",
   "language": "bash",
   "name": "bash"
  },
  "language_info": {
   "codemirror_mode": "shell",
   "file_extension": ".sh",
   "mimetype": "text/x-sh",
   "name": "bash"
  }
 },
 "nbformat": 4,
 "nbformat_minor": 4
}
