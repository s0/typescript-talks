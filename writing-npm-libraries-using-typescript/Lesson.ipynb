{
 "cells": [
  {
   "cell_type": "markdown",
   "metadata": {},
   "source": [
    "# Writing npm (JavaScript) libraries using TypeScript\n",
    "\n",
    "## Initial Repository Setup\n",
    "\n",
    "The first thing to do when starting out with creating any new node\n",
    "package is to initialise a git repo for the package, and create\n",
    "the `package.json` file."
   ]
  },
  {
   "cell_type": "code",
   "execution_count": 1,
   "metadata": {},
   "outputs": [],
   "source": [
    "mkdir -p my-amazing-package"
   ]
  },
  {
   "cell_type": "code",
   "execution_count": 2,
   "metadata": {},
   "outputs": [],
   "source": [
    "cd my-amazing-package"
   ]
  },
  {
   "cell_type": "code",
   "execution_count": 3,
   "metadata": {},
   "outputs": [
    {
     "name": "stdout",
     "output_type": "stream",
     "text": [
      "Initialized empty Git repository in /home/jupyter/notebooks/my-amazing-package/.git/\n"
     ]
    }
   ],
   "source": [
    "git init"
   ]
  },
  {
   "cell_type": "markdown",
   "metadata": {},
   "source": [
    "Next we need to setup the `package.json` file."
   ]
  },
  {
   "cell_type": "code",
   "execution_count": 4,
   "metadata": {},
   "outputs": [
    {
     "name": "stdout",
     "output_type": "stream",
     "text": [
      "{\n",
      "  \"name\": \"my-amazing-package\",\n",
      "  \"version\": \"0.0.1\"\n",
      "}\n"
     ]
    }
   ],
   "source": [
    "cat ../resources/package.json; cp ../resources/package.json package.json"
   ]
  },
  {
   "cell_type": "markdown",
   "metadata": {},
   "source": [
    "After we have this, we can start installing dependencies for this package.\n",
    "Let's install the typescript compiler.\n",
    "\n",
    "*Note: We're going to install this local to the current package, rather than\n",
    "glocally, to keep things clean*"
   ]
  },
  {
   "cell_type": "code",
   "execution_count": 5,
   "metadata": {},
   "outputs": [
    {
     "name": "stdout",
     "output_type": "stream",
     "text": [
      "\u001b[?25l\u001b[0G| |---------------------------------------------------------------------------|\n",
      "\u001b[?25h\u001b[1A\u001b[?25l\u001b[0G| |---------------------------------------------------------------------------|\n",
      "\u001b[?25h\u001b[1A\u001b[?25l\u001b[0G/ |---------------------------------------------------------------------------|\n",
      "\u001b[?25h\u001b[1A\u001b[?25l\u001b[0G- |---------------------------------------------------------------------------|\n",
      "\u001b[?25h\u001b[1A\u001b[?25l\u001b[0G\\ |---------------------------------------------------------------------------|\n",
      "\u001b[?25h\u001b[1A\u001b[?25l\u001b[0G| |---------------------------------------------------------------------------|\n",
      "\u001b[?25h\u001b[1A\u001b[?25l\u001b[0GloadRequestedDeps -> get  | |##########---------------------------------------|\n",
      "\u001b[?25h\u001b[1A\u001b[?25l\u001b[0GloadRequestedDeps -> addR / |##########---------------------------------------|\n",
      "\u001b[?25h\u001b[1A\u001b[?25l\u001b[0GloadRequestedDeps -> fetc / |##########---------------------------------------|\n",
      "\u001b[?25h\u001b[1A\u001b[?25l\u001b[0GloadRequestedDeps -> fetc - |##########---------------------------------------|\n",
      "\u001b[?25h\u001b[1A\u001b[?25l\u001b[0GloadRequestedDeps -> addT | |##########---------------------------------------|\n",
      "\u001b[?25h\u001b[1A\u001b[?25l\u001b[0GloadRequestedDeps -> afte \\ |##########---------------------------------------|\n",
      "\u001b[?25h\u001b[1A\u001b[?25l\u001b[0GloadRequestedDeps         \\ |###################------------------------------|\n",
      "\u001b[?25h\u001b[1A\u001b[?25l\u001b[0Gextract -> gunzTarPerm    \\ |##################################---------------|\n",
      "\u001b[?25h\u001b[1A\u001b[?25l\u001b[0Gextract -> gunzTarPerm    \\ |##################################---------------|\n",
      "\u001b[?25h\u001b[1A\u001b[?25l\u001b[0Gextract -> gunzTarPerm    \\ |##################################---------------|\n",
      "\u001b[?25h\u001b[1A\u001b[?25l\u001b[0Gextract -> gunzTarPerm    | |##################################---------------|\n",
      "\u001b[?25h\u001b[1A\u001b[?25l\u001b[0Gextract -> gunzTarPerm    - |##################################---------------|\n",
      "\u001b[?25h\u001b[1A\u001b[?25l\u001b[0Gextract -> gunzTarPerm    \\ |##################################---------------|\n",
      "\u001b[?25h\u001b[1A\u001b[?25l\u001b[0Gextract -> gunzTarPerm    | |##################################---------------|\n",
      "\u001b[?25h\u001b[1A\u001b[?25l\u001b[0Gextract -> gunzTarPerm    - |##################################---------------|\n",
      "\u001b[?25h\u001b[1A\u001b[?25l\u001b[0Gextract -> gunzTarPerm    \\ |##################################---------------|\n",
      "\u001b[?25h\u001b[1A\u001b[?25l\u001b[0Gextract -> gunzTarPerm    | |##################################---------------|\n",
      "\u001b[?25h\u001b[1A\u001b[?25l\u001b[0Gbuild -> linkStuff        / |##########################################-------|\n",
      "\u001b[?25h\u001b[?25h\u001b[1A\u001b[0G\u001b[K\u001b[?25l\u001b[0GrunTopLevelLifecycles     | |###############################################--|\n",
      "\u001b[?25h\u001b[?25h\u001b[1A\u001b[0G\u001b[Kmy-amazing-package@0.0.1 /home/jupyter/notebooks/my-amazing-package\n",
      "`-- \u001b[40m\u001b[33mtypescript@3.5.3\u001b[0m\u001b[0m \n",
      "\n",
      "\u001b[?25l\u001b[0GrunTopLevelLifecycles     | |###############################################--|\n",
      "\u001b[?25h\u001b[?25h\u001b[1A\u001b[0G\u001b[K\u001b[37m\u001b[40mnpm\u001b[0m \u001b[0m\u001b[30m\u001b[43mWARN\u001b[0m\u001b[35m\u001b[0m my-amazing-package@0.0.1 No description\n",
      "\u001b[0m\u001b[?25l\u001b[0GrunTopLevelLifecycles     / |###############################################--|\n",
      "\u001b[?25h\u001b[?25h\u001b[1A\u001b[0G\u001b[K\u001b[37m\u001b[40mnpm\u001b[0m \u001b[0m\u001b[30m\u001b[43mWARN\u001b[0m\u001b[35m\u001b[0m my-amazing-package@0.0.1 No repository field.\n",
      "\u001b[0m\u001b[?25l\u001b[0GrunTopLevelLifecycles     - |###############################################--|\n",
      "\u001b[?25h\u001b[?25h\u001b[1A\u001b[0G\u001b[K\u001b[37m\u001b[40mnpm\u001b[0m \u001b[0m\u001b[30m\u001b[43mWARN\u001b[0m\u001b[35m\u001b[0m my-amazing-package@0.0.1 No license field.\n",
      "\u001b[0m\u001b[?25l\u001b[0GrunTopLevelLifecycles     \\ |###############################################--|\n",
      "\u001b[?25h\u001b[?25h\u001b[1A\u001b[0G\u001b[K\u001b[?25h\u001b[0G\u001b[K"
     ]
    }
   ],
   "source": [
    "npm install --save typescript"
   ]
  },
  {
   "cell_type": "markdown",
   "metadata": {},
   "source": [
    "And we can now see how our `package.json` file has changed to include the dependency:"
   ]
  },
  {
   "cell_type": "code",
   "execution_count": 6,
   "metadata": {},
   "outputs": [
    {
     "name": "stdout",
     "output_type": "stream",
     "text": [
      "{\n",
      "  \"name\": \"my-amazing-package\",\n",
      "  \"version\": \"0.0.1\",\n",
      "  \"dependencies\": {\n",
      "    \"typescript\": \"^3.5.3\"\n",
      "  }\n",
      "}\n"
     ]
    }
   ],
   "source": [
    "cat package.json"
   ]
  },
  {
   "cell_type": "markdown",
   "metadata": {},
   "source": [
    "At this point, it's probably a good idea to start checking in files to git.\n",
    "If we take a look at the `git status`,\n",
    "we will see however that there are some files we probbly don't want to check-in, namely `node_modules`."
   ]
  },
  {
   "cell_type": "code",
   "execution_count": 7,
   "metadata": {},
   "outputs": [
    {
     "name": "stdout",
     "output_type": "stream",
     "text": [
      "On branch master\n",
      "\n",
      "No commits yet\n",
      "\n",
      "Untracked files:\n",
      "  (use \"git add <file>...\" to include in what will be committed)\n",
      "\n",
      "\t\u001b[31mnode_modules/\u001b[m\n",
      "\t\u001b[31mpackage.json\u001b[m\n",
      "\n",
      "nothing added to commit but untracked files present (use \"git add\" to track)\n"
     ]
    }
   ],
   "source": [
    "git status"
   ]
  },
  {
   "cell_type": "markdown",
   "metadata": {},
   "source": [
    "So let's make sure we're excluding files that we don't want to have checked in to the repo. We can use the starter `.gitignore` file from `resources/`."
   ]
  },
  {
   "cell_type": "code",
   "execution_count": 8,
   "metadata": {},
   "outputs": [
    {
     "name": "stdout",
     "output_type": "stream",
     "text": [
      "node_modules\n"
     ]
    }
   ],
   "source": [
    "cat ../resources/.gitignore; cp ../resources/.gitignore .gitignore"
   ]
  },
  {
   "cell_type": "code",
   "execution_count": 9,
   "metadata": {},
   "outputs": [
    {
     "name": "stdout",
     "output_type": "stream",
     "text": [
      "On branch master\n",
      "\n",
      "No commits yet\n",
      "\n",
      "Untracked files:\n",
      "  (use \"git add <file>...\" to include in what will be committed)\n",
      "\n",
      "\t\u001b[31m.gitignore\u001b[m\n",
      "\t\u001b[31mpackage.json\u001b[m\n",
      "\n",
      "nothing added to commit but untracked files present (use \"git add\" to track)\n"
     ]
    }
   ],
   "source": [
    "git status"
   ]
  },
  {
   "cell_type": "code",
   "execution_count": 10,
   "metadata": {},
   "outputs": [
    {
     "name": "stdout",
     "output_type": "stream",
     "text": [
      "[master (root-commit) df3fb63] Initial Commit\n",
      " 2 files changed, 8 insertions(+)\n",
      " create mode 100644 .gitignore\n",
      " create mode 100644 package.json\n"
     ]
    }
   ],
   "source": [
    "git add .; git commit -m \"Initial Commit\""
   ]
  },
  {
   "cell_type": "code",
   "execution_count": 11,
   "metadata": {},
   "outputs": [
    {
     "name": "stdout",
     "output_type": "stream",
     "text": [
      "On branch master\n",
      "nothing to commit, working tree clean\n"
     ]
    }
   ],
   "source": [
    "git status"
   ]
  },
  {
   "cell_type": "markdown",
   "metadata": {},
   "source": [
    "Make sure you add a remote repository and push regularly too!"
   ]
  },
  {
   "cell_type": "markdown",
   "metadata": {},
   "source": [
    "## Writing and compiling TypeScript\n",
    "\n",
    "Unlike JavaScript, TypeScript is a language that needs to be **compiled**.\n",
    "\n",
    "### Running `tsc`\n",
    "\n",
    "We need a way now to run the command line program `tsc`, provided by the typescript package,\n",
    "so that we can set up the project and compile the typescript code.\n",
    "\n",
    "However, as we installed the package locally rather than globally,\n",
    "we can't directly use the commands.\n",
    "\n",
    "Luckily, you can access locally installed binaries from custom scripts in `package.json`,\n",
    "and then use them just like normal programs.\n",
    "\n",
    "Let's modify `package.json` to add the following:\n",
    "\n",
    "```json\n",
    "\"scripts\": {\n",
    "  \"tsc\": \"tsc\"\n",
    "}\n",
    "```\n",
    "\n",
    "> **Note:** In this notebook, we'll be using a command `json` to make required modifications to json files.\n",
    "> But in most situations, you would just edit the file in a text editor.\n",
    "> The json command used here is assumed to be installed with:\n",
    "> ```\n",
    "> npm install -g json\n",
    "> ```\n",
    "> And if you're using the docker image, should already be available"
   ]
  },
  {
   "cell_type": "code",
   "execution_count": 13,
   "metadata": {},
   "outputs": [
    {
     "name": "stdout",
     "output_type": "stream",
     "text": [
      "json: updated \"package.json\" in-place\n",
      "{\n",
      "  \"name\": \"my-amazing-package\",\n",
      "  \"version\": \"0.0.1\",\n",
      "  \"dependencies\": {\n",
      "    \"typescript\": \"^3.5.3\"\n",
      "  },\n",
      "  \"scripts\": {\n",
      "    \"tsc\": \"tsc\"\n",
      "  }\n",
      "}\n"
     ]
    }
   ],
   "source": [
    "json -I -f package.json -e 'this.scripts={tsc:\"tsc\"}'; cat package.json"
   ]
  },
  {
   "cell_type": "markdown",
   "metadata": {},
   "source": [
    "We can then run `tsc` by instead running `npm run tsc`, "
   ]
  },
  {
   "cell_type": "code",
   "execution_count": 18,
   "metadata": {},
   "outputs": [
    {
     "name": "stdout",
     "output_type": "stream",
     "text": [
      "\u001b[?25h\u001b[0G\u001b[K\n",
      "> my-amazing-package@0.0.1 tsc /home/jupyter/notebooks/my-amazing-package\n",
      "> tsc \"--version\"\n",
      "\n",
      "\u001b[?25l\u001b[0G- |---------------------------------------------------------------------------|\n",
      "\u001b[?25h\u001b[?25h\u001b[1A\u001b[0G\u001b[K\u001b[?25h\u001b[0G\u001b[KVersion 3.5.3\n",
      "\u001b[?25l\u001b[0G- |---------------------------------------------------------------------------|\n",
      "\u001b[?25h\u001b[?25h\u001b[1A\u001b[0G\u001b[K\u001b[?25h\u001b[0G\u001b[K"
     ]
    }
   ],
   "source": [
    "npm run tsc -- --version"
   ]
  },
  {
   "cell_type": "code",
   "execution_count": null,
   "metadata": {},
   "outputs": [],
   "source": []
  },
  {
   "cell_type": "code",
   "execution_count": 19,
   "metadata": {},
   "outputs": [
    {
     "name": "stdout",
     "output_type": "stream",
     "text": [
      "\u001b[?25h\u001b[0G\u001b[K\n",
      "> my-amazing-package@0.0.1 tsc /home/jupyter/notebooks/my-amazing-package\n",
      "> tsc \"--init\"\n",
      "\n",
      "\u001b[?25l\u001b[0G- |---------------------------------------------------------------------------|\n",
      "\u001b[?25h\u001b[?25h\u001b[1A\u001b[0G\u001b[K\u001b[?25h\u001b[0G\u001b[Kmessage TS6071: Successfully created a tsconfig.json file.\n",
      "\u001b[?25l\u001b[0G- |---------------------------------------------------------------------------|\n",
      "\u001b[?25h\u001b[?25h\u001b[1A\u001b[0G\u001b[K\u001b[?25h\u001b[0G\u001b[K"
     ]
    }
   ],
   "source": [
    "npm run tsc -- --init"
   ]
  },
  {
   "cell_type": "code",
   "execution_count": null,
   "metadata": {},
   "outputs": [],
   "source": []
  },
  {
   "cell_type": "code",
   "execution_count": 8,
   "metadata": {},
   "outputs": [],
   "source": [
    "cd .."
   ]
  },
  {
   "cell_type": "code",
   "execution_count": 9,
   "metadata": {},
   "outputs": [
    {
     "name": "stdout",
     "output_type": "stream",
     "text": [
      "/home/jupyter/notebooks\n"
     ]
    }
   ],
   "source": [
    "pwd"
   ]
  },
  {
   "cell_type": "code",
   "execution_count": null,
   "metadata": {},
   "outputs": [],
   "source": []
  }
 ],
 "metadata": {
  "kernelspec": {
   "display_name": "Bash",
   "language": "bash",
   "name": "bash"
  },
  "language_info": {
   "codemirror_mode": "shell",
   "file_extension": ".sh",
   "mimetype": "text/x-sh",
   "name": "bash"
  }
 },
 "nbformat": 4,
 "nbformat_minor": 4
}
