{
 "cells": [
  {
   "cell_type": "markdown",
   "metadata": {},
   "source": [
    "# Writing npm (JavaScript) libraries using TypeScript\n",
    "\n",
    "## Initial Repository Setup\n",
    "\n",
    "The first thing to do when starting out with creating any new node\n",
    "package is to initialise a git repo for the package, and create\n",
    "the `package.json` file."
   ]
  },
  {
   "cell_type": "code",
   "execution_count": 1,
   "metadata": {},
   "outputs": [],
   "source": [
    "mkdir -p my-amazing-package"
   ]
  },
  {
   "cell_type": "code",
   "execution_count": 2,
   "metadata": {},
   "outputs": [],
   "source": [
    "cd my-amazing-package"
   ]
  },
  {
   "cell_type": "code",
   "execution_count": 3,
   "metadata": {},
   "outputs": [
    {
     "name": "stdout",
     "output_type": "stream",
     "text": [
      "Initialized empty Git repository in /home/jupyter/notebooks/my-amazing-package/.git/\n"
     ]
    }
   ],
   "source": [
    "git init"
   ]
  },
  {
   "cell_type": "markdown",
   "metadata": {},
   "source": [
    "Next we need to setup the `package.json` file.\n",
    "\n",
    "Create the file `package.json` with the following content:\n",
    "\n",
    "```json\n",
    "{\n",
    "  \"name\": \"my-amazing-package\",\n",
    "  \"version\": \"0.0.1\"\n",
    "}\n",
    "```\n",
    "\n",
    "If you're following along in your own terminal and text editor,\n",
    "do this as you would any other file.\n",
    "\n",
    "If you're running the notebook,\n",
    "the following command will write the file for you.\n",
    "*(You'll see this pattern throughout the document).*"
   ]
  },
  {
   "cell_type": "code",
   "execution_count": 4,
   "metadata": {},
   "outputs": [],
   "source": [
    "# Write file\n",
    "cat > package.json << 'EndOfFile'\n",
    "{\n",
    "  \"name\": \"my-amazing-package\",\n",
    "  \"version\": \"0.0.1\"\n",
    "}\n",
    "EndOfFile"
   ]
  },
  {
   "cell_type": "code",
   "execution_count": 5,
   "metadata": {},
   "outputs": [
    {
     "name": "stdout",
     "output_type": "stream",
     "text": [
      "{\n",
      "  \"name\": \"my-amazing-package\",\n",
      "  \"version\": \"0.0.1\"\n",
      "}\n"
     ]
    }
   ],
   "source": [
    "cat package.json"
   ]
  },
  {
   "cell_type": "markdown",
   "metadata": {},
   "source": [
    "After we have this, we can start installing dependencies for this package.\n",
    "Let's install the typescript compiler.\n",
    "\n",
    "*Note: We're going to install this local to the current package, rather than\n",
    "glocally, to keep things clean*"
   ]
  },
  {
   "cell_type": "code",
   "execution_count": 49,
   "metadata": {},
   "outputs": [
    {
     "name": "stdout",
     "output_type": "stream",
     "text": [
      "\u001b[?25l\u001b[0G| |---------------------------------------------------------------------------|\n",
      "\u001b[?25h\u001b[1A\u001b[?25l\u001b[0G| |---------------------------------------------------------------------------|\n",
      "\u001b[?25h\u001b[1A\u001b[?25l\u001b[0G- |---------------------------------------------------------------------------|\n",
      "\u001b[?25h\u001b[1A\u001b[?25l\u001b[0G\\ |---------------------------------------------------------------------------|\n",
      "\u001b[?25h\u001b[1A\u001b[?25l\u001b[0G| |---------------------------------------------------------------------------|\n",
      "\u001b[?25h\u001b[1A\u001b[?25l\u001b[0GloadRequestedDeps -> get  | |##########---------------------------------------|\n",
      "\u001b[?25h\u001b[1A\u001b[?25l\u001b[0GloadRequestedDeps -> addN | |##########---------------------------------------|\n",
      "\u001b[?25h\u001b[1A\u001b[?25l\u001b[0GloadRequestedDeps -> afte \\ |##########---------------------------------------|\n",
      "\u001b[?25h\u001b[1A\u001b[?25l\u001b[0GloadRequestedDeps         \\ |###################------------------------------|\n",
      "\u001b[?25h\u001b[?25h\u001b[1A\u001b[0G\u001b[K\u001b[?25l\u001b[0GrunTopLevelLifecycles     - |###############################################--|\n",
      "\u001b[?25h\u001b[?25h\u001b[1A\u001b[0G\u001b[K\u001b[37m\u001b[40mnpm\u001b[0m \u001b[0m\u001b[30m\u001b[43mWARN\u001b[0m\u001b[35m\u001b[0m my-amazing-package@0.0.1 No description\n",
      "\u001b[0m\u001b[?25l\u001b[0GrunTopLevelLifecycles     \\ |###############################################--|\n",
      "\u001b[?25h\u001b[?25h\u001b[1A\u001b[0G\u001b[K\u001b[37m\u001b[40mnpm\u001b[0m \u001b[0m\u001b[30m\u001b[43mWARN\u001b[0m\u001b[35m\u001b[0m my-amazing-package@0.0.1 No repository field.\n",
      "\u001b[0m\u001b[?25l\u001b[0GrunTopLevelLifecycles     | |###############################################--|\n",
      "\u001b[?25h\u001b[?25h\u001b[1A\u001b[0G\u001b[K\u001b[37m\u001b[40mnpm\u001b[0m \u001b[0m\u001b[30m\u001b[43mWARN\u001b[0m\u001b[35m\u001b[0m my-amazing-package@0.0.1 No license field.\n",
      "\u001b[0m\u001b[?25l\u001b[0GrunTopLevelLifecycles     / |###############################################--|\n",
      "\u001b[?25h\u001b[?25h\u001b[1A\u001b[0G\u001b[K\u001b[?25h\u001b[0G\u001b[K"
     ]
    }
   ],
   "source": [
    "npm install --save-dev typescript"
   ]
  },
  {
   "cell_type": "markdown",
   "metadata": {},
   "source": [
    "And we can now see how our `package.json` file has changed to include the dependency:"
   ]
  },
  {
   "cell_type": "code",
   "execution_count": 50,
   "metadata": {},
   "outputs": [
    {
     "name": "stdout",
     "output_type": "stream",
     "text": [
      "{\n",
      "  \"name\": \"my-amazing-package\",\n",
      "  \"version\": \"0.0.1\",\n",
      "  \"dependencies\": {\n",
      "    \"typescript\": \"^3.5.3\"\n",
      "  },\n",
      "  \"scripts\": {\n",
      "    \"tsc\": \"tsc\"\n",
      "  },\n",
      "  \"devDependencies\": {\n",
      "    \"typescript\": \"^3.5.3\"\n",
      "  }\n",
      "}\n"
     ]
    }
   ],
   "source": [
    "cat package.json"
   ]
  },
  {
   "cell_type": "markdown",
   "metadata": {},
   "source": [
    "At this point, it's probably a good idea to start checking in files to git.\n",
    "If we take a look at the `git status`,\n",
    "we will see however that there are some files we probbly don't want to check-in, namely `node_modules`."
   ]
  },
  {
   "cell_type": "code",
   "execution_count": 8,
   "metadata": {},
   "outputs": [
    {
     "name": "stdout",
     "output_type": "stream",
     "text": [
      "On branch master\n",
      "\n",
      "No commits yet\n",
      "\n",
      "Untracked files:\n",
      "  (use \"git add <file>...\" to include in what will be committed)\n",
      "\n",
      "\t\u001b[31mnode_modules/\u001b[m\n",
      "\t\u001b[31mpackage.json\u001b[m\n",
      "\n",
      "nothing added to commit but untracked files present (use \"git add\" to track)\n"
     ]
    }
   ],
   "source": [
    "git status"
   ]
  },
  {
   "cell_type": "markdown",
   "metadata": {},
   "source": [
    "So let's make sure we're excluding files that we don't want to have checked in to the repo. We can use the starter `.gitignore` file from `resources/`.\n",
    "\n",
    "Create the file `.gitignore` with the following content:\n",
    "\n",
    "```\n",
    "node_modules/\n",
    "npm-debug.log\n",
    "```\n"
   ]
  },
  {
   "cell_type": "code",
   "execution_count": 35,
   "metadata": {},
   "outputs": [],
   "source": [
    "# Write file\n",
    "cat > .gitignore << 'EndOfFile'\n",
    "/node_modules/\n",
    "/npm-debug.log\n",
    "EndOfFile"
   ]
  },
  {
   "cell_type": "code",
   "execution_count": 36,
   "metadata": {},
   "outputs": [
    {
     "name": "stdout",
     "output_type": "stream",
     "text": [
      "/node_modules/\n",
      "/npm-debug.log\n"
     ]
    }
   ],
   "source": [
    "cat .gitignore"
   ]
  },
  {
   "cell_type": "code",
   "execution_count": 11,
   "metadata": {},
   "outputs": [
    {
     "name": "stdout",
     "output_type": "stream",
     "text": [
      "On branch master\n",
      "\n",
      "No commits yet\n",
      "\n",
      "Untracked files:\n",
      "  (use \"git add <file>...\" to include in what will be committed)\n",
      "\n",
      "\t\u001b[31m.gitignore\u001b[m\n",
      "\t\u001b[31mpackage.json\u001b[m\n",
      "\n",
      "nothing added to commit but untracked files present (use \"git add\" to track)\n"
     ]
    }
   ],
   "source": [
    "git status"
   ]
  },
  {
   "cell_type": "code",
   "execution_count": 12,
   "metadata": {},
   "outputs": [
    {
     "name": "stdout",
     "output_type": "stream",
     "text": [
      "[master (root-commit) d271bbf] Initial Commit\n",
      " 2 files changed, 9 insertions(+)\n",
      " create mode 100644 .gitignore\n",
      " create mode 100644 package.json\n"
     ]
    }
   ],
   "source": [
    "git add .; git commit -m \"Initial Commit\""
   ]
  },
  {
   "cell_type": "code",
   "execution_count": 13,
   "metadata": {},
   "outputs": [
    {
     "name": "stdout",
     "output_type": "stream",
     "text": [
      "On branch master\n",
      "nothing to commit, working tree clean\n"
     ]
    }
   ],
   "source": [
    "git status"
   ]
  },
  {
   "cell_type": "markdown",
   "metadata": {},
   "source": [
    "Make sure you add a remote repository and push regularly too!"
   ]
  },
  {
   "cell_type": "markdown",
   "metadata": {},
   "source": [
    "## Configuring & compiling TypeScript\n",
    "\n",
    "Unlike JavaScript, TypeScript can't be run directly in node or in the browser.\n",
    "We need to first compile it, by using `tsc` to convert the TypeScript code to JavaScript.\n",
    "\n",
    "This must be done before we publish the package to NPM.\n",
    "\n",
    "*Note: It's also typically undesirable to include the output of a compilation process\n",
    "among the checked-in files of a repository. The repository should usually just\n",
    "contain the sources.*\n",
    "\n",
    "### Running `tsc`\n",
    "\n",
    "We need a way to run the command line program `tsc`,\n",
    "so that we can set up the project and compile the TypeScript code.\n",
    "\n",
    "However, as we installed the package locally rather than globally,\n",
    "we can't directly use the `tsc` command in our terminal.\n",
    "\n",
    "Luckily, you can access locally installed binaries from custom scripts in `package.json`,\n",
    "and then use them just like normal programs.\n",
    "\n",
    "Let's modify `package.json` to add the following:\n",
    "\n",
    "```json\n",
    "\"scripts\": {\n",
    "  \"tsc\": \"tsc\"\n",
    "}\n",
    "```"
   ]
  },
  {
   "cell_type": "code",
   "execution_count": 14,
   "metadata": {},
   "outputs": [
    {
     "name": "stdout",
     "output_type": "stream",
     "text": [
      "json: updated \"package.json\" in-place\n"
     ]
    }
   ],
   "source": [
    "json -I -f package.json -e 'this.scripts={tsc:\"tsc\"}'"
   ]
  },
  {
   "cell_type": "markdown",
   "metadata": {},
   "source": [
    "**Note:** In this notebook, we'll be using a command `json` to make required modifications to json files.\n",
    "But in most situations, you would just edit the file in a text editor.\n",
    "The json command used here is assumed to be installed with:\n",
    "```\n",
    "npm install -g json\n",
    "```\n",
    "And if you're running this notebook from within the docker image, `json` should already be installed and available."
   ]
  },
  {
   "cell_type": "code",
   "execution_count": 15,
   "metadata": {},
   "outputs": [
    {
     "name": "stdout",
     "output_type": "stream",
     "text": [
      "{\n",
      "  \"name\": \"my-amazing-package\",\n",
      "  \"version\": \"0.0.1\",\n",
      "  \"dependencies\": {\n",
      "    \"typescript\": \"^3.5.3\"\n",
      "  },\n",
      "  \"scripts\": {\n",
      "    \"tsc\": \"tsc\"\n",
      "  }\n",
      "}\n"
     ]
    }
   ],
   "source": [
    "cat package.json"
   ]
  },
  {
   "cell_type": "markdown",
   "metadata": {},
   "source": [
    "We can then run `tsc` by instead running `npm run tsc`.\n",
    "\n",
    "*Note: we use `--` below because all of the command line arguments after `--` are passed directly to the script, and are not processed by node. This is neccesary for some arguments like `--init`*"
   ]
  },
  {
   "cell_type": "code",
   "execution_count": 16,
   "metadata": {},
   "outputs": [
    {
     "name": "stdout",
     "output_type": "stream",
     "text": [
      "\u001b[?25h\u001b[0G\u001b[K\n",
      "> my-amazing-package@0.0.1 tsc /home/jupyter/notebooks/my-amazing-package\n",
      "> tsc \"--version\"\n",
      "\n",
      "\u001b[?25l\u001b[0G- |---------------------------------------------------------------------------|\n",
      "\u001b[?25h\u001b[?25h\u001b[1A\u001b[0G\u001b[K\u001b[?25h\u001b[0G\u001b[KVersion 3.5.3\n",
      "\u001b[?25l\u001b[0G- |---------------------------------------------------------------------------|\n",
      "\u001b[?25h\u001b[?25h\u001b[1A\u001b[0G\u001b[K\u001b[?25h\u001b[0G\u001b[K"
     ]
    }
   ],
   "source": [
    "npm run tsc -- --version"
   ]
  },
  {
   "cell_type": "markdown",
   "metadata": {},
   "source": [
    "### Configuring TypeScript\n",
    "\n",
    "TypeScript is configured using the file `tsconfig.json`.\n",
    "This file is used both by `tsc`,\n",
    "and by any integrations in your IDE that aid in TypeScript development.\n",
    "\n",
    "Let's generate an initial configuration with `tsc --init`."
   ]
  },
  {
   "cell_type": "code",
   "execution_count": 17,
   "metadata": {},
   "outputs": [
    {
     "name": "stdout",
     "output_type": "stream",
     "text": [
      "\u001b[?25h\u001b[0G\u001b[K\n",
      "> my-amazing-package@0.0.1 tsc /home/jupyter/notebooks/my-amazing-package\n",
      "> tsc \"--init\"\n",
      "\n",
      "\u001b[?25l\u001b[0G- |---------------------------------------------------------------------------|\n",
      "\u001b[?25h\u001b[?25h\u001b[1A\u001b[0G\u001b[K\u001b[?25h\u001b[0G\u001b[Kmessage TS6071: Successfully created a tsconfig.json file.\n",
      "\u001b[?25l\u001b[0G- |---------------------------------------------------------------------------|\n",
      "\u001b[?25h\u001b[?25h\u001b[1A\u001b[0G\u001b[K\u001b[?25h\u001b[0G\u001b[K"
     ]
    }
   ],
   "source": [
    "npm run tsc -- --init"
   ]
  },
  {
   "cell_type": "code",
   "execution_count": 18,
   "metadata": {},
   "outputs": [
    {
     "name": "stdout",
     "output_type": "stream",
     "text": [
      "{\n",
      "  \"compilerOptions\": {\n",
      "    /* Basic Options */\n",
      "    // \"incremental\": true,                   /* Enable incremental compilation */\n",
      "    \"target\": \"es5\",                          /* Specify ECMAScript target version: 'ES3' (default), 'ES5', 'ES2015', 'ES2016', 'ES2017', 'ES2018', 'ES2019' or 'ESNEXT'. */\n",
      "    \"module\": \"commonjs\",                     /* Specify module code generation: 'none', 'commonjs', 'amd', 'system', 'umd', 'es2015', or 'ESNext'. */\n",
      "    // \"lib\": [],                             /* Specify library files to be included in the compilation. */\n",
      "    // \"allowJs\": true,                       /* Allow javascript files to be compiled. */\n",
      "    // \"checkJs\": true,                       /* Report errors in .js files. */\n",
      "    // \"jsx\": \"preserve\",                     /* Specify JSX code generation: 'preserve', 'react-native', or 'react'. */\n",
      "    // \"declaration\": true,                   /* Generates corresponding '.d.ts' file. */\n",
      "    // \"declarationMap\": true,                /* Generates a sourcemap for each corresponding '.d.ts' file. */\n",
      "    // \"sourceMap\": true,                     /* Generates corresponding '.map' file. */\n",
      "    // \"outFile\": \"./\",                       /* Concatenate and emit output to single file. */\n",
      "    // \"outDir\": \"./\",                        /* Redirect output structure to the directory. */\n",
      "    // \"rootDir\": \"./\",                       /* Specify the root directory of input files. Use to control the output directory structure with --outDir. */\n",
      "    // \"composite\": true,                     /* Enable project compilation */\n",
      "    // \"tsBuildInfoFile\": \"./\",               /* Specify file to store incremental compilation information */\n",
      "    // \"removeComments\": true,                /* Do not emit comments to output. */\n",
      "    // \"noEmit\": true,                        /* Do not emit outputs. */\n",
      "    // \"importHelpers\": true,                 /* Import emit helpers from 'tslib'. */\n",
      "    // \"downlevelIteration\": true,            /* Provide full support for iterables in 'for-of', spread, and destructuring when targeting 'ES5' or 'ES3'. */\n",
      "    // \"isolatedModules\": true,               /* Transpile each file as a separate module (similar to 'ts.transpileModule'). */\n",
      "\n",
      "    /* Strict Type-Checking Options */\n",
      "    \"strict\": true,                           /* Enable all strict type-checking options. */\n",
      "    // \"noImplicitAny\": true,                 /* Raise error on expressions and declarations with an implied 'any' type. */\n",
      "    // \"strictNullChecks\": true,              /* Enable strict null checks. */\n",
      "    // \"strictFunctionTypes\": true,           /* Enable strict checking of function types. */\n",
      "    // \"strictBindCallApply\": true,           /* Enable strict 'bind', 'call', and 'apply' methods on functions. */\n",
      "    // \"strictPropertyInitialization\": true,  /* Enable strict checking of property initialization in classes. */\n",
      "    // \"noImplicitThis\": true,                /* Raise error on 'this' expressions with an implied 'any' type. */\n",
      "    // \"alwaysStrict\": true,                  /* Parse in strict mode and emit \"use strict\" for each source file. */\n",
      "\n",
      "    /* Additional Checks */\n",
      "    // \"noUnusedLocals\": true,                /* Report errors on unused locals. */\n",
      "    // \"noUnusedParameters\": true,            /* Report errors on unused parameters. */\n",
      "    // \"noImplicitReturns\": true,             /* Report error when not all code paths in function return a value. */\n",
      "    // \"noFallthroughCasesInSwitch\": true,    /* Report errors for fallthrough cases in switch statement. */\n",
      "\n",
      "    /* Module Resolution Options */\n",
      "    // \"moduleResolution\": \"node\",            /* Specify module resolution strategy: 'node' (Node.js) or 'classic' (TypeScript pre-1.6). */\n",
      "    // \"baseUrl\": \"./\",                       /* Base directory to resolve non-absolute module names. */\n",
      "    // \"paths\": {},                           /* A series of entries which re-map imports to lookup locations relative to the 'baseUrl'. */\n",
      "    // \"rootDirs\": [],                        /* List of root folders whose combined content represents the structure of the project at runtime. */\n",
      "    // \"typeRoots\": [],                       /* List of folders to include type definitions from. */\n",
      "    // \"types\": [],                           /* Type declaration files to be included in compilation. */\n",
      "    // \"allowSyntheticDefaultImports\": true,  /* Allow default imports from modules with no default export. This does not affect code emit, just typechecking. */\n",
      "    \"esModuleInterop\": true                   /* Enables emit interoperability between CommonJS and ES Modules via creation of namespace objects for all imports. Implies 'allowSyntheticDefaultImports'. */\n",
      "    // \"preserveSymlinks\": true,              /* Do not resolve the real path of symlinks. */\n",
      "    // \"allowUmdGlobalAccess\": true,          /* Allow accessing UMD globals from modules. */\n",
      "\n",
      "    /* Source Map Options */\n",
      "    // \"sourceRoot\": \"\",                      /* Specify the location where debugger should locate TypeScript files instead of source locations. */\n",
      "    // \"mapRoot\": \"\",                         /* Specify the location where debugger should locate map files instead of generated locations. */\n",
      "    // \"inlineSourceMap\": true,               /* Emit a single file with source maps instead of having a separate file. */\n",
      "    // \"inlineSources\": true,                 /* Emit the source alongside the sourcemaps within a single file; requires '--inlineSourceMap' or '--sourceMap' to be set. */\n",
      "\n",
      "    /* Experimental Options */\n",
      "    // \"experimentalDecorators\": true,        /* Enables experimental support for ES7 decorators. */\n",
      "    // \"emitDecoratorMetadata\": true,         /* Enables experimental support for emitting type metadata for decorators. */\n",
      "  }\n",
      "}\n"
     ]
    }
   ],
   "source": [
    "cat tsconfig.json"
   ]
  },
  {
   "cell_type": "markdown",
   "metadata": {},
   "source": [
    "This generates a file with most of the settings commented out and documented, ready for customization.\n",
    "\n",
    "We want to leave most of these properties at their defaults,\n",
    "and keep around the documentation for potential use later,\n",
    "but there are some things that we want to change.\n",
    "\n",
    "Namely, we want to setup the directories of our repository to look roughly like this:\n",
    "\n",
    "```\n",
    "├── lib/ -- output files (.js)\n",
    "├── src/ -- source files (.ts)\n",
    "├── package.json\n",
    "└── tsconfig.json\n",
    "```\n",
    "\n",
    "To do this, we want to set the `rootDir` and `outDir` properties, and also add an `include` path. So the tsconfig will look something like this:\n",
    "\n",
    "```json\n",
    "{\n",
    "  \"compilerOptions\": {\n",
    "    // other properties\n",
    "    \"outDir\": \"lib\",\n",
    "    \"rootDir\": \"src\"\n",
    "  },\n",
    "  \"include\": [\n",
    "    \"src/**/*\"\n",
    "  ]\n",
    "}\n",
    "```\n",
    "\n",
    "If you're following along and using a text editor,\n",
    "go ahead and uncomment the appropriate lines and make the relevant changes.\n",
    "\n",
    "If you're running the notebook,\n",
    "we need to do something slightly different, because unfortunately,\n",
    "the `tsconfig.json` file is not actually valid JSON,\n",
    "as it contains comments,\n",
    "so we can't use the the `json` command to modify it.\n",
    "\n",
    "Fortunately though, TypeScript configurations can extend others,\n",
    "so we can instead create a new file with the options we care about,\n",
    "and use the generated config as a base:\n",
    "\n",
    "Let's rename the `tsconfig.json` to `tsconfig.base.json`, and create a new `tsconfig.json` with the following contents:\n",
    "\n",
    "```json\n",
    "{\n",
    "  \"extends\": \"./tsconfig.base\",\n",
    "  \"compilerOptions\": {\n",
    "    \"outDir\": \"lib\",\n",
    "    \"rootDir\": \"src\"\n",
    "  },\n",
    "  \"include\": [\n",
    "    \"src/**/*\"\n",
    "  ]\n",
    "}\n",
    "```"
   ]
  },
  {
   "cell_type": "code",
   "execution_count": 19,
   "metadata": {},
   "outputs": [],
   "source": [
    "mv tsconfig.json tsconfig.base.json"
   ]
  },
  {
   "cell_type": "code",
   "execution_count": 20,
   "metadata": {},
   "outputs": [],
   "source": [
    "# Write file\n",
    "cat > tsconfig.json << 'EndOfFile'\n",
    "{\n",
    "  \"extends\": \"./tsconfig.base\",\n",
    "  \"compilerOptions\": {\n",
    "    \"outDir\": \"lib\",\n",
    "    \"rootDir\": \"src\"\n",
    "  },\n",
    "  \"include\": [\n",
    "    \"src/**/*\"\n",
    "  ]\n",
    "}\n",
    "EndOfFile"
   ]
  },
  {
   "cell_type": "code",
   "execution_count": 21,
   "metadata": {},
   "outputs": [
    {
     "name": "stdout",
     "output_type": "stream",
     "text": [
      "{\n",
      "  \"extends\": \"./tsconfig.base\",\n",
      "  \"compilerOptions\": {\n",
      "    \"outDir\": \"lib\",\n",
      "    \"rootDir\": \"src\"\n",
      "  },\n",
      "  \"include\": [\n",
      "    \"src/**/*\"\n",
      "  ]\n",
      "}\n"
     ]
    }
   ],
   "source": [
    "cat tsconfig.json"
   ]
  },
  {
   "cell_type": "markdown",
   "metadata": {},
   "source": [
    "Let's see what happens if we try to run the compiler:"
   ]
  },
  {
   "cell_type": "code",
   "execution_count": 22,
   "metadata": {},
   "outputs": [
    {
     "name": "stdout",
     "output_type": "stream",
     "text": [
      "\u001b[?25h\u001b[0G\u001b[K\n",
      "> my-amazing-package@0.0.1 tsc /home/jupyter/notebooks/my-amazing-package\n",
      "> tsc\n",
      "\n",
      "\u001b[?25l\u001b[0G- |---------------------------------------------------------------------------|\n",
      "\u001b[?25h\u001b[?25h\u001b[1A\u001b[0G\u001b[K\u001b[?25h\u001b[0G\u001b[K\u001b[91merror\u001b[0m\u001b[90m TS18003: \u001b[0mNo inputs were found in config file '/home/jupyter/notebooks/my-amazing-package/tsconfig.json'. Specified 'include' paths were '[\"src/**/*\"]' and 'exclude' paths were '[\"lib\"]'.\n",
      "\n",
      "\n",
      "Found 1 error.\n",
      "\n",
      "\u001b[?25l\u001b[0G- |---------------------------------------------------------------------------|\n",
      "\u001b[?25h\u001b[?25h\u001b[1A\u001b[0G\u001b[K\u001b[?25h\u001b[0G\u001b[K\n",
      "\u001b[37m\u001b[40mnpm\u001b[0m \u001b[0m\u001b[31m\u001b[40mERR!\u001b[0m\u001b[35m\u001b[0m Linux 5.1.15-arch1-1-ARCH\n",
      "\u001b[0m\u001b[37m\u001b[40mnpm\u001b[0m \u001b[0m\u001b[31m\u001b[40mERR!\u001b[0m \u001b[0m\u001b[35margv\u001b[0m \"/usr/bin/node\" \"/usr/bin/npm\" \"run\" \"tsc\"\n",
      "\u001b[0m\u001b[37m\u001b[40mnpm\u001b[0m \u001b[0m\u001b[31m\u001b[40mERR!\u001b[0m \u001b[0m\u001b[35mnode\u001b[0m v8.10.0\n",
      "\u001b[0m\u001b[37m\u001b[40mnpm\u001b[0m \u001b[0m\u001b[31m\u001b[40mERR!\u001b[0m \u001b[0m\u001b[35mnpm \u001b[0m v3.5.2\n",
      "\u001b[0m\u001b[37m\u001b[40mnpm\u001b[0m \u001b[0m\u001b[31m\u001b[40mERR!\u001b[0m \u001b[0m\u001b[35mcode\u001b[0m ELIFECYCLE\n",
      "\u001b[0m\u001b[37m\u001b[40mnpm\u001b[0m \u001b[0m\u001b[31m\u001b[40mERR!\u001b[0m\u001b[35m\u001b[0m my-amazing-package@0.0.1 tsc: `tsc`\n",
      "\u001b[0m\u001b[37m\u001b[40mnpm\u001b[0m \u001b[0m\u001b[31m\u001b[40mERR!\u001b[0m\u001b[35m\u001b[0m Exit status 2\n",
      "\u001b[0m\u001b[37m\u001b[40mnpm\u001b[0m \u001b[0m\u001b[31m\u001b[40mERR!\u001b[0m\u001b[35m\u001b[0m \n",
      "\u001b[0m\u001b[37m\u001b[40mnpm\u001b[0m \u001b[0m\u001b[31m\u001b[40mERR!\u001b[0m\u001b[35m\u001b[0m Failed at the my-amazing-package@0.0.1 tsc script 'tsc'.\n",
      "\u001b[0m\u001b[37m\u001b[40mnpm\u001b[0m \u001b[0m\u001b[31m\u001b[40mERR!\u001b[0m\u001b[35m\u001b[0m Make sure you have the latest version of node.js and npm installed.\n",
      "\u001b[0m\u001b[37m\u001b[40mnpm\u001b[0m \u001b[0m\u001b[31m\u001b[40mERR!\u001b[0m\u001b[35m\u001b[0m If you do, this is most likely a problem with the my-amazing-package package,\n",
      "\u001b[0m\u001b[37m\u001b[40mnpm\u001b[0m \u001b[0m\u001b[31m\u001b[40mERR!\u001b[0m\u001b[35m\u001b[0m not with npm itself.\n",
      "\u001b[0m\u001b[37m\u001b[40mnpm\u001b[0m \u001b[0m\u001b[31m\u001b[40mERR!\u001b[0m\u001b[35m\u001b[0m Tell the author that this fails on your system:\n",
      "\u001b[0m\u001b[37m\u001b[40mnpm\u001b[0m \u001b[0m\u001b[31m\u001b[40mERR!\u001b[0m\u001b[35m\u001b[0m     tsc\n",
      "\u001b[0m\u001b[37m\u001b[40mnpm\u001b[0m \u001b[0m\u001b[31m\u001b[40mERR!\u001b[0m\u001b[35m\u001b[0m You can get information on how to open an issue for this project with:\n",
      "\u001b[0m\u001b[37m\u001b[40mnpm\u001b[0m \u001b[0m\u001b[31m\u001b[40mERR!\u001b[0m\u001b[35m\u001b[0m     npm bugs my-amazing-package\n",
      "\u001b[0m\u001b[37m\u001b[40mnpm\u001b[0m \u001b[0m\u001b[31m\u001b[40mERR!\u001b[0m\u001b[35m\u001b[0m Or if that isn't available, you can get their info via:\n",
      "\u001b[0m\u001b[37m\u001b[40mnpm\u001b[0m \u001b[0m\u001b[31m\u001b[40mERR!\u001b[0m\u001b[35m\u001b[0m     npm owner ls my-amazing-package\n",
      "\u001b[0m\u001b[37m\u001b[40mnpm\u001b[0m \u001b[0m\u001b[31m\u001b[40mERR!\u001b[0m\u001b[35m\u001b[0m There is likely additional logging output above.\n",
      "\u001b[0m\n",
      "\u001b[37m\u001b[40mnpm\u001b[0m \u001b[0m\u001b[31m\u001b[40mERR!\u001b[0m\u001b[35m\u001b[0m Please include the following file with any support request:\n",
      "\u001b[0m\u001b[37m\u001b[40mnpm\u001b[0m \u001b[0m\u001b[31m\u001b[40mERR!\u001b[0m\u001b[35m\u001b[0m     /home/jupyter/notebooks/my-amazing-package/npm-debug.log\n",
      "\u001b[0m"
     ]
    },
    {
     "ename": "",
     "evalue": "1",
     "execution_count": 22,
     "output_type": "error",
     "traceback": []
    }
   ],
   "source": [
    "npm run tsc"
   ]
  },
  {
   "cell_type": "markdown",
   "metadata": {},
   "source": [
    "It complains that there were no inputs found,\n",
    "which makes sense as we haven't written any actual TypeScript code yet.\n",
    "\n",
    "Let's commit the changes we've made so far, and then start writing some TypeScript."
   ]
  },
  {
   "cell_type": "code",
   "execution_count": 23,
   "metadata": {},
   "outputs": [
    {
     "name": "stdout",
     "output_type": "stream",
     "text": [
      "On branch master\n",
      "Changes not staged for commit:\n",
      "  (use \"git add <file>...\" to update what will be committed)\n",
      "  (use \"git checkout -- <file>...\" to discard changes in working directory)\n",
      "\n",
      "\t\u001b[31mmodified:   package.json\u001b[m\n",
      "\n",
      "Untracked files:\n",
      "  (use \"git add <file>...\" to include in what will be committed)\n",
      "\n",
      "\t\u001b[31mtsconfig.base.json\u001b[m\n",
      "\t\u001b[31mtsconfig.json\u001b[m\n",
      "\n",
      "no changes added to commit (use \"git add\" and/or \"git commit -a\")\n"
     ]
    }
   ],
   "source": [
    "git status"
   ]
  },
  {
   "cell_type": "code",
   "execution_count": 24,
   "metadata": {},
   "outputs": [
    {
     "name": "stdout",
     "output_type": "stream",
     "text": [
      "[master 9e34868] Add TypeScript config\n",
      " 3 files changed, 76 insertions(+)\n",
      " create mode 100644 tsconfig.base.json\n",
      " create mode 100644 tsconfig.json\n"
     ]
    }
   ],
   "source": [
    "git add .; git commit -m \"Add TypeScript config\""
   ]
  },
  {
   "cell_type": "code",
   "execution_count": 25,
   "metadata": {},
   "outputs": [
    {
     "name": "stdout",
     "output_type": "stream",
     "text": [
      "On branch master\n",
      "nothing to commit, working tree clean\n"
     ]
    }
   ],
   "source": [
    "git status"
   ]
  },
  {
   "cell_type": "markdown",
   "metadata": {},
   "source": [
    "## Writing TypeScript\n",
    "\n",
    "Now that we have set up the compiler options,\n",
    "let's write our fist typescript file for our package.\n",
    "\n",
    "Create the folder `src/` and create the file `index.ts` with the following content:\n",
    "\n",
    "```ts\n",
    "export function hello_world(a1: string, a2: number){\n",
    "    console.log(`Hello World! I was given the string ${a1} and the number ${a2}`)\n",
    "}\n",
    "```"
   ]
  },
  {
   "cell_type": "code",
   "execution_count": 26,
   "metadata": {},
   "outputs": [],
   "source": [
    "mkdir src"
   ]
  },
  {
   "cell_type": "markdown",
   "metadata": {},
   "source": [
    "The following command will write the file for us.\n",
    "But if you're not running from the notebook, you should create this using a text editor instead."
   ]
  },
  {
   "cell_type": "code",
   "execution_count": 27,
   "metadata": {},
   "outputs": [],
   "source": [
    "cat > src/index.ts << 'EndOfTypeScriptFile'\n",
    "export function hello_world(a1: string, a2: number){\n",
    "    console.log(`Hello World! I was given the string ${a1} and the number ${a2}`)\n",
    "}\n",
    "EndOfTypeScriptFile"
   ]
  },
  {
   "cell_type": "code",
   "execution_count": 28,
   "metadata": {},
   "outputs": [
    {
     "name": "stdout",
     "output_type": "stream",
     "text": [
      "export function hello_world(a1: string, a2: number){\n",
      "    console.log(`Hello World! I was given the string ${a1} and the number ${a2}`)\n",
      "}\n"
     ]
    }
   ],
   "source": [
    "cat src/index.ts"
   ]
  },
  {
   "cell_type": "markdown",
   "metadata": {},
   "source": [
    "Now if we compile the typescript code:"
   ]
  },
  {
   "cell_type": "code",
   "execution_count": 29,
   "metadata": {},
   "outputs": [
    {
     "name": "stdout",
     "output_type": "stream",
     "text": [
      "\u001b[?25h\u001b[0G\u001b[K\n",
      "> my-amazing-package@0.0.1 tsc /home/jupyter/notebooks/my-amazing-package\n",
      "> tsc\n",
      "\n",
      "\u001b[?25l\u001b[0G- |---------------------------------------------------------------------------|\n",
      "\u001b[?25h\u001b[?25h\u001b[1A\u001b[0G\u001b[K\u001b[?25h\u001b[0G\u001b[K\u001b[?25l\u001b[0G- |---------------------------------------------------------------------------|\n",
      "\u001b[?25h\u001b[?25h\u001b[1A\u001b[0G\u001b[K\u001b[?25h\u001b[0G\u001b[K"
     ]
    }
   ],
   "source": [
    "npm run tsc"
   ]
  },
  {
   "cell_type": "markdown",
   "metadata": {},
   "source": [
    "We can see that a new directory `lib` has appeared. Inside of which is the file `index.js`."
   ]
  },
  {
   "cell_type": "code",
   "execution_count": 30,
   "metadata": {},
   "outputs": [
    {
     "name": "stdout",
     "output_type": "stream",
     "text": [
      "total 44\n",
      "drwxr-xr-x 6 jupyter jupyter 4096 Jul 16 19:30 .\n",
      "drwxr-xr-x 5 jupyter jupyter 4096 Jul 16 19:29 ..\n",
      "drwxr-xr-x 8 jupyter jupyter 4096 Jul 16 19:30 .git\n",
      "-rw-r--r-- 1 jupyter jupyter   27 Jul 16 19:29 .gitignore\n",
      "drwxr-xr-x 2 jupyter jupyter 4096 Jul 16 19:30 lib\n",
      "drwxr-xr-x 4 jupyter jupyter 4096 Jul 16 19:29 node_modules\n",
      "-rw-r--r-- 1 jupyter jupyter  146 Jul 16 19:29 package.json\n",
      "drwxr-xr-x 2 jupyter jupyter 4096 Jul 16 19:30 src\n",
      "-rw-r--r-- 1 jupyter jupyter 5743 Jul 16 19:29 tsconfig.base.json\n",
      "-rw-r--r-- 1 jupyter jupyter  140 Jul 16 19:29 tsconfig.json\n"
     ]
    }
   ],
   "source": [
    "ls -la"
   ]
  },
  {
   "cell_type": "code",
   "execution_count": 31,
   "metadata": {},
   "outputs": [
    {
     "name": "stdout",
     "output_type": "stream",
     "text": [
      "total 12\n",
      "drwxr-xr-x 2 jupyter jupyter 4096 Jul 16 19:30 .\n",
      "drwxr-xr-x 6 jupyter jupyter 4096 Jul 16 19:30 ..\n",
      "-rw-r--r-- 1 jupyter jupyter  233 Jul 16 19:30 index.js\n"
     ]
    }
   ],
   "source": [
    "ls -la lib"
   ]
  },
  {
   "cell_type": "markdown",
   "metadata": {},
   "source": [
    "And if we take a look at that file,\n",
    "we can see the JavaScript that `tsc` has produced.\n",
    "All type annotations have been removed, and there are a couple of additions including a `\"use strict\"` declaration."
   ]
  },
  {
   "cell_type": "code",
   "execution_count": 32,
   "metadata": {},
   "outputs": [
    {
     "name": "stdout",
     "output_type": "stream",
     "text": [
      "\"use strict\";\n",
      "Object.defineProperty(exports, \"__esModule\", { value: true });\n",
      "function hello_world(a1, a2) {\n",
      "    console.log(\"Hello World! I was given the string \" + a1 + \" and the number \" + a2);\n",
      "}\n",
      "exports.hello_world = hello_world;\n"
     ]
    }
   ],
   "source": [
    "cat lib/index.js"
   ]
  },
  {
   "cell_type": "markdown",
   "metadata": {},
   "source": [
    "Let's see what the state of our git tree is:"
   ]
  },
  {
   "cell_type": "code",
   "execution_count": 33,
   "metadata": {},
   "outputs": [
    {
     "name": "stdout",
     "output_type": "stream",
     "text": [
      "On branch master\n",
      "Untracked files:\n",
      "  (use \"git add <file>...\" to include in what will be committed)\n",
      "\n",
      "\t\u001b[31mlib/\u001b[m\n",
      "\t\u001b[31msrc/\u001b[m\n",
      "\n",
      "nothing added to commit but untracked files present (use \"git add\" to track)\n"
     ]
    }
   ],
   "source": [
    "git status"
   ]
  },
  {
   "cell_type": "markdown",
   "metadata": {},
   "source": [
    "You'll see that both `src/` and `lib/` are listed there as untracked files\n",
    "that we could potentially check-in to our repository.\n",
    "But remember earlier that we said that it's preferable to make sure\n",
    "that compiler output is not checked-in to a repository.\n",
    "\n",
    "So let's add `/lib/` to `.gitignore`:"
   ]
  },
  {
   "cell_type": "code",
   "execution_count": 40,
   "metadata": {},
   "outputs": [],
   "source": [
    "echo /lib/ >> .gitignore"
   ]
  },
  {
   "cell_type": "code",
   "execution_count": 41,
   "metadata": {},
   "outputs": [
    {
     "name": "stdout",
     "output_type": "stream",
     "text": [
      "/node_modules/\n",
      "/npm-debug.log\n",
      "/lib/\n"
     ]
    }
   ],
   "source": [
    "cat .gitignore"
   ]
  },
  {
   "cell_type": "code",
   "execution_count": 44,
   "metadata": {},
   "outputs": [
    {
     "name": "stdout",
     "output_type": "stream",
     "text": [
      "On branch master\n",
      "Changes not staged for commit:\n",
      "  (use \"git add <file>...\" to update what will be committed)\n",
      "  (use \"git checkout -- <file>...\" to discard changes in working directory)\n",
      "\n",
      "\t\u001b[31mmodified:   .gitignore\u001b[m\n",
      "\n",
      "Untracked files:\n",
      "  (use \"git add <file>...\" to include in what will be committed)\n",
      "\n",
      "\t\u001b[31msrc/\u001b[m\n",
      "\n",
      "no changes added to commit (use \"git add\" and/or \"git commit -a\")\n"
     ]
    }
   ],
   "source": [
    "git status"
   ]
  },
  {
   "cell_type": "markdown",
   "metadata": {},
   "source": [
    "And then let's commit our changes to git."
   ]
  },
  {
   "cell_type": "code",
   "execution_count": 46,
   "metadata": {},
   "outputs": [
    {
     "name": "stdout",
     "output_type": "stream",
     "text": [
      "[master bdf3a8a] Add some typescript code\n",
      " 3 files changed, 9 insertions(+), 2 deletions(-)\n",
      " create mode 100644 src/.ipynb_checkpoints/index-checkpoint.ts\n",
      " create mode 100644 src/index.ts\n"
     ]
    }
   ],
   "source": [
    "git add .; git commit -m \"Add some typescript code\""
   ]
  },
  {
   "cell_type": "code",
   "execution_count": 47,
   "metadata": {},
   "outputs": [
    {
     "name": "stdout",
     "output_type": "stream",
     "text": [
      "On branch master\n",
      "nothing to commit, working tree clean\n"
     ]
    }
   ],
   "source": [
    "git status"
   ]
  },
  {
   "cell_type": "markdown",
   "metadata": {},
   "source": [
    "## Publishing our NPM package\n",
    "\n",
    "We're almost ready to publish our package to NPM, there are just a couple of things remaining:\n",
    "\n",
    "* We need to specify which files get included in our package\n",
    "* We need to specify our `main` module.\n",
    "\n",
    "### Specifying which files are included when publishing\n",
    "\n",
    "By default, running `npm publish` will package up every file that's included in your repository\n",
    "([except for a few special-cases](https://docs.npmjs.com/files/package.json#files)).\n",
    "This is undesireable as this means that a lot of useless / uneeded files will often be included,\n",
    "needlessly increasing the size of your published package,\n",
    "and taking up space in `node_modules` for any project that uses your package as a dependency.\n",
    "\n",
    "It's in your user's best interest that you keep this as small as possible.\n",
    "\n",
    "<img src=\"https://turnoff.us/image/en/npm-install.png\" width=\"400\"/>\n",
    "\n",
    "*Sidenote: There's a great project called [packagephobia](https://packagephobia.now.sh/) that\n",
    "will calculate the effect that installing an npm package will have on your disk-space.*\n",
    "\n",
    "There are two primary ways of telling NPM which files to include:\n",
    "\n",
    "1. blacklisting files using `.npmignore`\n",
    "2. whitelisting files using the `\"files\"` property in `package.json`\n",
    "\n",
    "We're going to use the second option,\n",
    "as with a whitelist,\n",
    "we're much less likely to accidentally include new files that are useless.\n",
    "(for example, docs or files & images that are part of a static site for our project).\n",
    "\n",
    "We only need to explicitly include the files from `lib/`,\n",
    "as standard files like `package.json` and `README` or `README.md` are always included\n",
    "regardless of settings.\n",
    "\n",
    "So let's add the following to our `package.json`:\n",
    "\n",
    "```json\n",
    "\"files\": [\n",
    "    \"lib/**/*\"\n",
    "]\n",
    "```"
   ]
  },
  {
   "cell_type": "code",
   "execution_count": 51,
   "metadata": {},
   "outputs": [
    {
     "name": "stdout",
     "output_type": "stream",
     "text": [
      "json: updated \"package.json\" in-place\n"
     ]
    }
   ],
   "source": [
    "json -I -f package.json -e 'this.files=[\"lib/**/*\"]'"
   ]
  },
  {
   "cell_type": "code",
   "execution_count": 52,
   "metadata": {},
   "outputs": [
    {
     "name": "stdout",
     "output_type": "stream",
     "text": [
      "{\n",
      "  \"name\": \"my-amazing-package\",\n",
      "  \"version\": \"0.0.1\",\n",
      "  \"dependencies\": {\n",
      "    \"typescript\": \"^3.5.3\"\n",
      "  },\n",
      "  \"scripts\": {\n",
      "    \"tsc\": \"tsc\"\n",
      "  },\n",
      "  \"devDependencies\": {\n",
      "    \"typescript\": \"^3.5.3\"\n",
      "  },\n",
      "  \"files\": [\n",
      "    \"lib/**/*\"\n",
      "  ]\n",
      "}\n"
     ]
    }
   ],
   "source": [
    "cat package.json"
   ]
  },
  {
   "cell_type": "markdown",
   "metadata": {},
   "source": [
    "### Specifying our \"main\" module.\n",
    "\n",
    "The next thing we need to do is specify which module gets used when users import our package.\n",
    "\n",
    "I.e., what happens when a user writes:\n",
    "\n",
    "```js\n",
    "const amazing = require('my-amazing-package')\n",
    "```\n",
    "\n",
    "or\n",
    "\n",
    "```ts\n",
    "import * as amazing from 'my-amazing-package'\n",
    "```\n",
    "\n",
    "What, should the value of `amazing` be.\n",
    "\n",
    "For our case, we want this to be the module for the code produced by `src/index.ts`,\n",
    "which gets output to `lib/index.js`.\n",
    "\n",
    "So we simply set our value of `\"main\"` to `\"lib/index.js\"`:"
   ]
  },
  {
   "cell_type": "code",
   "execution_count": 53,
   "metadata": {},
   "outputs": [
    {
     "name": "stdout",
     "output_type": "stream",
     "text": [
      "json: updated \"package.json\" in-place\n"
     ]
    }
   ],
   "source": [
    "json -I -f package.json -e 'this.main=\"lib/index.js\"'"
   ]
  },
  {
   "cell_type": "code",
   "execution_count": 54,
   "metadata": {},
   "outputs": [
    {
     "name": "stdout",
     "output_type": "stream",
     "text": [
      "{\n",
      "  \"name\": \"my-amazing-package\",\n",
      "  \"version\": \"0.0.1\",\n",
      "  \"dependencies\": {\n",
      "    \"typescript\": \"^3.5.3\"\n",
      "  },\n",
      "  \"scripts\": {\n",
      "    \"tsc\": \"tsc\"\n",
      "  },\n",
      "  \"devDependencies\": {\n",
      "    \"typescript\": \"^3.5.3\"\n",
      "  },\n",
      "  \"files\": [\n",
      "    \"lib/**/*\"\n",
      "  ],\n",
      "  \"main\": \"lib/index.js\"\n",
      "}\n"
     ]
    }
   ],
   "source": [
    "cat package.json"
   ]
  },
  {
   "cell_type": "markdown",
   "metadata": {},
   "source": [
    "At this point, your package should be ready to publish.\n",
    "**Make sure that you remember to run `npm run tsc` before publishing if you've made any changes to your TypeScript files**.\n",
    "\n",
    "You can run `npm publish --dry-run` to see information on what would be published.\n",
    "\n",
    "Running this command should produce something like this:\n",
    "\n",
    "```\n",
    "npm notice \n",
    "npm notice 📦  my-amazing-package@0.0.1\n",
    "npm notice === Tarball Contents === \n",
    "npm notice 233B lib/index.js\n",
    "npm notice 260B package.json\n",
    "npm notice === Tarball Details === \n",
    "npm notice name:          my-amazing-package                      \n",
    "npm notice version:       0.0.1                                   \n",
    "npm notice package size:  420 B                                   \n",
    "npm notice unpacked size: 493 B                                   \n",
    "npm notice shasum:        7343798e528312644bcd803ca76a3468fefd97ba\n",
    "npm notice integrity:     sha512-lGijoChg2vnIN[...]Z+S43cYHqsPsg==\n",
    "npm notice total files:   2                                       \n",
    "npm notice \n",
    "+ my-amazing-package@0.0.1\n",
    "```\n",
    "\n",
    "Notice how the only files included are `package.json` and `lib/index.js`.\n",
    "\n",
    "Once you're happy and ready to publish,\n",
    "simply run `npm publish`.\n",
    "\n",
    "You will need to create an account on npmjs.com,\n",
    "and login using `npm adduser` if you haven't already.\n"
   ]
  }
 ],
 "metadata": {
  "kernelspec": {
   "display_name": "Bash",
   "language": "bash",
   "name": "bash"
  },
  "language_info": {
   "codemirror_mode": "shell",
   "file_extension": ".sh",
   "mimetype": "text/x-sh",
   "name": "bash"
  }
 },
 "nbformat": 4,
 "nbformat_minor": 4
}
