{
 "cells": [
  {
   "cell_type": "markdown",
   "metadata": {},
   "source": [
    "# Writing npm (JavaScript) libraries using TypeScript\n",
    "\n",
    "The first thing to do when starting out with creating any new node\n",
    "package is to initialise a git repo for the package, and create\n",
    "the `package.json` file.\n",
    "\n",
    "\n",
    "**`package.json`**\n",
    "```json\n",
    "{\n",
    "  \"name\": \"my-amazing-package\",\n",
    "  \"version\": \"0.0.1\"\n",
    "}\n",
    "```\n"
   ]
  },
  {
   "cell_type": "markdown",
   "metadata": {},
   "source": [
    "After we have this, we can start installing packages.\n",
    "Let's install the typescript compiler.\n",
    "\n",
    "```\n",
    "> npm install typescript\n",
    "```\n",
    "\n",
    "This results in the following `package.json`:\n",
    "\n",
    "```json\n",
    "{\n",
    "  \"name\": \"my-amazing-package\",\n",
    "  \"version\": \"0.0.1\",\n",
    "  \"dependencies\": {\n",
    "    \"typescript\": \"^3.5.3\"\n",
    "  }\n",
    "}\n",
    "```"
   ]
  },
  {
   "cell_type": "markdown",
   "metadata": {},
   "source": []
  }
 ],
 "metadata": {
  "kernelspec": {
   "display_name": "Typescript 3.5",
   "language": "typescript",
   "name": "typescript"
  },
  "language_info": {
   "name": ""
  }
 },
 "nbformat": 4,
 "nbformat_minor": 4
}
