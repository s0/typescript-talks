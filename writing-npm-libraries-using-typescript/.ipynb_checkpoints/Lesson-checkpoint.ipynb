{
 "cells": [
  {
   "cell_type": "markdown",
   "metadata": {},
   "source": [
    "# Writing npm (JavaScript) libraries using TypeScript\n",
    "\n",
    "The first thing to do when starting out with creating any new node\n",
    "package is to initialise a git repo for the package, and create\n",
    "the `package.json` file.\n",
    "\n",
    "\n",
    "**`package.json`**\n",
    "```json\n",
    "{\n",
    "  \"name\": \"my-amazing-package\",\n",
    "  \"version\": \"0.0.1\"\n",
    "}\n",
    "```\n",
    "\n",
    "After we have this, we can start installing packages.\n",
    "\n"
   ]
  }
 ],
 "metadata": {
  "kernelspec": {
   "display_name": "Typescript 3.5",
   "language": "typescript",
   "name": "typescript"
  },
  "language_info": {
   "name": ""
  }
 },
 "nbformat": 4,
 "nbformat_minor": 4
}
